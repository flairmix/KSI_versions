{
 "cells": [
  {
   "cell_type": "code",
   "execution_count": 1,
   "metadata": {},
   "outputs": [],
   "source": [
    "import pandas as pd\n"
   ]
  },
  {
   "cell_type": "code",
   "execution_count": 2,
   "metadata": {},
   "outputs": [],
   "source": [
    "df = pd.read_csv('2025_03_data//03_OKS.csv', encoding='utf-8', sep=';', header=0)"
   ]
  },
  {
   "cell_type": "code",
   "execution_count": null,
   "metadata": {},
   "outputs": [
    {
     "name": "stderr",
     "output_type": "stream",
     "text": [
      "C:\\Users\\donchenko\\AppData\\Local\\Temp\\ipykernel_3496\\3915973346.py:5: SettingWithCopyWarning: \n",
      "A value is trying to be set on a copy of a slice from a DataFrame\n",
      "\n",
      "See the caveats in the documentation: https://pandas.pydata.org/pandas-docs/stable/user_guide/indexing.html#returning-a-view-versus-a-copy\n",
      "  df[cols_to_fill].ffill(inplace=True)\n"
     ]
    }
   ],
   "source": [
    "df.dropna(subset=['Наименование'], inplace=True)\n",
    "df.reset_index(drop=True, inplace=True)\n",
    "cols_to_fill = [\"Класс\", \"Подкласс 1\", \"Подкласс 2\"]\n",
    "df[cols_to_fill].ffill(inplace=True)\n",
    "df.set_index('УИН', inplace=True,drop=True)\n"
   ]
  },
  {
   "cell_type": "code",
   "execution_count": 10,
   "metadata": {},
   "outputs": [
    {
     "name": "stdout",
     "output_type": "stream",
     "text": [
      "Здание (сооружение) конюшни\n"
     ]
    }
   ],
   "source": [
    "row = df[df[\"Подкласс 3\"] == \"AAAA\"].iloc[0][\"Наименование\"]\n",
    "print(row)"
   ]
  }
 ],
 "metadata": {
  "kernelspec": {
   "display_name": ".venv",
   "language": "python",
   "name": "python3"
  },
  "language_info": {
   "codemirror_mode": {
    "name": "ipython",
    "version": 3
   },
   "file_extension": ".py",
   "mimetype": "text/x-python",
   "name": "python",
   "nbconvert_exporter": "python",
   "pygments_lexer": "ipython3",
   "version": "3.12.9"
  }
 },
 "nbformat": 4,
 "nbformat_minor": 2
}
